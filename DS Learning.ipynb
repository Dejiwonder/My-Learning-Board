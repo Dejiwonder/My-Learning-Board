{
 "cells": [
  {
   "cell_type": "code",
   "execution_count": 7,
   "metadata": {},
   "outputs": [],
   "source": [
    "import pandas as pd\n",
    "import numpy as np\n",
    "import matplotlib.pyplot as plt"
   ]
  },
  {
   "cell_type": "code",
   "execution_count": 8,
   "metadata": {},
   "outputs": [
    {
     "name": "stdout",
     "output_type": "stream",
     "text": [
      "2\n",
      "[[1 2 3 4]\n",
      " [5 6 7 8]]\n"
     ]
    }
   ],
   "source": [
    "deji= np.array([[1,2,3,4],[5,6,7,8]])\n",
    "print (deji.ndim)\n",
    "print (deji)"
   ]
  },
  {
   "cell_type": "code",
   "execution_count": 9,
   "metadata": {},
   "outputs": [
    {
     "name": "stdout",
     "output_type": "stream",
     "text": [
      "1\n",
      "2\n",
      "3\n",
      "4\n",
      "5\n",
      "6\n",
      "7\n",
      "8\n",
      "9\n",
      "3\n",
      "56\n",
      "78\n",
      "(10,)\n",
      "[0 0 0 0 0 0 0 0 0 0]\n"
     ]
    }
   ],
   "source": [
    "threed= np.array ([[[1,2,3],[4,5,6]],[[7,8,9],[3,56,78]]])\n",
    "# print(threed.ndim)\n",
    "# print(threed[1,0,2])\n",
    "# print(threed.shape)\n",
    "for i in threed:\n",
    "    for j in i:\n",
    "        for m in j:\n",
    "         print(m)\n",
    "zerosarray= np.zeros(10)\n",
    "zerosarray= zerosarray.astype(int)\n",
    "print (zerosarray.shape)\n",
    "print (zerosarray)\n"
   ]
  },
  {
   "cell_type": "code",
   "execution_count": 10,
   "metadata": {},
   "outputs": [
    {
     "name": "stdout",
     "output_type": "stream",
     "text": [
      "[1 1 1 1 1 1 1 1 1 1]\n",
      "[6 6 6 6 6 6 6 6 6 6]\n"
     ]
    }
   ],
   "source": [
    "ones= np.ones(10)\n",
    "ones= ones.astype(int)\n",
    "print (ones)\n",
    "pf = np.full(10,6)\n",
    "print(pf)"
   ]
  },
  {
   "cell_type": "code",
   "execution_count": 11,
   "metadata": {},
   "outputs": [
    {
     "name": "stdout",
     "output_type": "stream",
     "text": [
      "[[1 4]\n",
      " [2 5]\n",
      " [3 6]]\n",
      "[[ 2  4  6]\n",
      " [ 8 10 12]]\n",
      "[[0.5 1.  1.5]\n",
      " [2.  2.5 3. ]]\n",
      "[[ 1  4  9]\n",
      " [16 25 36]]\n",
      "[[1 2 3]\n",
      " [4 5 6]]\n",
      "[[3 4 5]\n",
      " [6 7 8]]\n"
     ]
    }
   ],
   "source": [
    "matrix = np.array ([[1,2,3],[4,5,6]])\n",
    "add= matrix + 2\n",
    "multiply= matrix *2\n",
    "division= matrix/2\n",
    "raisetopower= matrix **2 \n",
    "Transponse= matrix.T\n",
    "print (Transponse)\n",
    "print (multiply)\n",
    "print (division)\n",
    "print (raisetopower)\n",
    "print(matrix)\n",
    "print(add)"
   ]
  },
  {
   "cell_type": "code",
   "execution_count": 12,
   "metadata": {},
   "outputs": [
    {
     "name": "stdout",
     "output_type": "stream",
     "text": [
      "[[ 4  6  8]\n",
      " [10 12 14]]\n"
     ]
    }
   ],
   "source": [
    "matrix2 = np.array([[3,4,5],[6,7,8]])\n",
    "Concantenante= matrix + matrix2 \n",
    "print (Concantenante)"
   ]
  },
  {
   "cell_type": "code",
   "execution_count": 13,
   "metadata": {},
   "outputs": [
    {
     "name": "stdout",
     "output_type": "stream",
     "text": [
      "[[ 27  42  36]\n",
      " [ 93 141 126]\n",
      " [ 94 127 132]]\n",
      "5.555555555555555\n",
      "8\n",
      "1.7069212773041351\n",
      "3\n"
     ]
    }
   ],
   "source": [
    "m= np.array([[1,2,3],[5,7,9],[8,9,4]])\n",
    "m2 = np.array ([[3,4,5],[6,7,8],[4,8,5]])\n",
    "matrixmultiplication= np.matmul(m, m2)\n",
    "print(matrixmultiplication)\n",
    "min= np.min(m2)\n",
    "max= np.max(m2)\n",
    "mean = np.mean(m2)\n",
    "std= np.std(m2)\n",
    "print (mean)\n",
    "print (max)\n",
    "print (std)\n",
    "print(min)"
   ]
  },
  {
   "cell_type": "code",
   "execution_count": 14,
   "metadata": {},
   "outputs": [
    {
     "data": {
      "text/html": [
       "<div>\n",
       "<style scoped>\n",
       "    .dataframe tbody tr th:only-of-type {\n",
       "        vertical-align: middle;\n",
       "    }\n",
       "\n",
       "    .dataframe tbody tr th {\n",
       "        vertical-align: top;\n",
       "    }\n",
       "\n",
       "    .dataframe thead th {\n",
       "        text-align: right;\n",
       "    }\n",
       "</style>\n",
       "<table border=\"1\" class=\"dataframe\">\n",
       "  <thead>\n",
       "    <tr style=\"text-align: right;\">\n",
       "      <th></th>\n",
       "      <th>fruits</th>\n",
       "      <th>color</th>\n",
       "    </tr>\n",
       "  </thead>\n",
       "  <tbody>\n",
       "    <tr>\n",
       "      <th>0</th>\n",
       "      <td>Apple</td>\n",
       "      <td>Red</td>\n",
       "    </tr>\n",
       "    <tr>\n",
       "      <th>1</th>\n",
       "      <td>Banana</td>\n",
       "      <td>yellow</td>\n",
       "    </tr>\n",
       "    <tr>\n",
       "      <th>2</th>\n",
       "      <td>Orange</td>\n",
       "      <td>Orange</td>\n",
       "    </tr>\n",
       "  </tbody>\n",
       "</table>\n",
       "</div>"
      ],
      "text/plain": [
       "   fruits   color\n",
       "0   Apple     Red\n",
       "1  Banana  yellow\n",
       "2  Orange  Orange"
      ]
     },
     "execution_count": 14,
     "metadata": {},
     "output_type": "execute_result"
    }
   ],
   "source": [
    "#creating a dataframe \n",
    "mylist = [['Apple','Red'],['Banana','yellow'],['Orange','Orange']]\n",
    "mylist\n",
    "mydataframe = pd.DataFrame(mylist, columns = ['fruits', 'color'])\n",
    "mydataframe"
   ]
  }
 ],
 "metadata": {
  "kernelspec": {
   "display_name": "Python 3 (ipykernel)",
   "language": "python",
   "name": "python3"
  },
  "language_info": {
   "codemirror_mode": {
    "name": "ipython",
    "version": 3
   },
   "file_extension": ".py",
   "mimetype": "text/x-python",
   "name": "python",
   "nbconvert_exporter": "python",
   "pygments_lexer": "ipython3",
   "version": "3.10.13"
  }
 },
 "nbformat": 4,
 "nbformat_minor": 2
}
