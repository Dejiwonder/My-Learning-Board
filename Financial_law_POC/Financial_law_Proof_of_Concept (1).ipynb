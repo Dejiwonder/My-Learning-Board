{
  "cells": [
    {
      "cell_type": "code",
      "execution_count": null,
      "metadata": {
        "id": "af_THljfROTK"
      },
      "outputs": [],
      "source": [
        "##CODING SESSION"
      ]
    },
    {
      "cell_type": "code",
      "execution_count": 1,
      "metadata": {
        "colab": {
          "base_uri": "https://localhost:8080/"
        },
        "collapsed": true,
        "id": "QVy2jCseXotz",
        "outputId": "c1e524c5-a033-4b86-90f1-b9aa121da658"
      },
      "outputs": [
        {
          "name": "stdout",
          "output_type": "stream",
          "text": [
            "Defaulting to user installation because normal site-packages is not writeable\n",
            "Requirement already satisfied: pylint in c:\\users\\acer\\appdata\\local\\packages\\pythonsoftwarefoundation.python.3.12_qbz5n2kfra8p0\\localcache\\local-packages\\python312\\site-packages (3.2.6)\n",
            "Requirement already satisfied: platformdirs>=2.2.0 in c:\\users\\acer\\appdata\\local\\packages\\pythonsoftwarefoundation.python.3.12_qbz5n2kfra8p0\\localcache\\local-packages\\python312\\site-packages (from pylint) (4.1.0)\n",
            "Requirement already satisfied: astroid<=3.3.0-dev0,>=3.2.4 in c:\\users\\acer\\appdata\\local\\packages\\pythonsoftwarefoundation.python.3.12_qbz5n2kfra8p0\\localcache\\local-packages\\python312\\site-packages (from pylint) (3.2.4)\n",
            "Requirement already satisfied: isort!=5.13.0,<6,>=4.2.5 in c:\\users\\acer\\appdata\\local\\packages\\pythonsoftwarefoundation.python.3.12_qbz5n2kfra8p0\\localcache\\local-packages\\python312\\site-packages (from pylint) (5.13.2)\n",
            "Requirement already satisfied: mccabe<0.8,>=0.6 in c:\\users\\acer\\appdata\\local\\packages\\pythonsoftwarefoundation.python.3.12_qbz5n2kfra8p0\\localcache\\local-packages\\python312\\site-packages (from pylint) (0.7.0)\n",
            "Requirement already satisfied: tomlkit>=0.10.1 in c:\\users\\acer\\appdata\\local\\packages\\pythonsoftwarefoundation.python.3.12_qbz5n2kfra8p0\\localcache\\local-packages\\python312\\site-packages (from pylint) (0.13.0)\n",
            "Requirement already satisfied: dill>=0.3.6 in c:\\users\\acer\\appdata\\local\\packages\\pythonsoftwarefoundation.python.3.12_qbz5n2kfra8p0\\localcache\\local-packages\\python312\\site-packages (from pylint) (0.3.8)\n",
            "Requirement already satisfied: colorama>=0.4.5 in c:\\users\\acer\\appdata\\local\\packages\\pythonsoftwarefoundation.python.3.12_qbz5n2kfra8p0\\localcache\\local-packages\\python312\\site-packages (from pylint) (0.4.6)\n",
            "Note: you may need to restart the kernel to use updated packages.\n"
          ]
        },
        {
          "name": "stderr",
          "output_type": "stream",
          "text": [
            "\n",
            "[notice] A new release of pip is available: 23.3.1 -> 24.2\n",
            "[notice] To update, run: C:\\Users\\Acer\\AppData\\Local\\Microsoft\\WindowsApps\\PythonSoftwareFoundation.Python.3.12_qbz5n2kfra8p0\\python.exe -m pip install --upgrade pip\n"
          ]
        }
      ],
      "source": [
        "import pandas as pd\n",
        "import numpy as np\n",
        "#import seaborn as sns\n",
        "import matplotlib.pyplot as plt\n",
        "%pip install pylint\n",
        "#!pip install -q kaggle"
      ]
    },
    {
      "cell_type": "code",
      "execution_count": 7,
      "metadata": {
        "id": "bNfJI11dxtNw"
      },
      "outputs": [],
      "source": [
        "# Step 1: Load datasets and checking out the data\n",
        "regulations_df = pd.read_csv (\"C:/Users/Acer/Desktop/My Learning Board/Financial_law_POC/regulations.csv\")\n",
        "relevance_df = pd.read_csv(r'C:/Users/Acer/Desktop/My Learning Board/Financial_law_POC/relevance_data.csv')"
      ]
    },
    {
      "cell_type": "code",
      "execution_count": 8,
      "metadata": {
        "colab": {
          "base_uri": "https://localhost:8080/",
          "height": 595
        },
        "collapsed": true,
        "id": "o0tN6UuB4PIn",
        "outputId": "cc7478a5-69c7-48af-85a5-e92ceb4f4230"
      },
      "outputs": [
        {
          "name": "stdout",
          "output_type": "stream",
          "text": [
            "<class 'pandas.core.frame.DataFrame'>\n",
            "RangeIndex: 134083 entries, 0 to 134082\n",
            "Data columns (total 8 columns):\n",
            " #   Column           Non-Null Count   Dtype \n",
            "---  ------           --------------   ----- \n",
            " 0   Title            133687 non-null  object\n",
            " 1   RegulatorId      134083 non-null  object\n",
            " 2   SourceLanguage   134083 non-null  object\n",
            " 3   DocumentTypeId   134083 non-null  object\n",
            " 4   PublicationDate  134083 non-null  object\n",
            " 5   IsPdf            134083 non-null  bool  \n",
            " 6   Content          133480 non-null  object\n",
            " 7   DocumentID       134083 non-null  object\n",
            "dtypes: bool(1), object(7)\n",
            "memory usage: 7.3+ MB\n"
          ]
        },
        {
          "data": {
            "text/plain": [
              "Title              396\n",
              "RegulatorId          0\n",
              "SourceLanguage       0\n",
              "DocumentTypeId       0\n",
              "PublicationDate      0\n",
              "IsPdf                0\n",
              "Content            603\n",
              "DocumentID           0\n",
              "dtype: int64"
            ]
          },
          "execution_count": 8,
          "metadata": {},
          "output_type": "execute_result"
        }
      ],
      "source": [
        "#checking out the data for DATA CLEANING\n",
        "regulations_df.describe()\n",
        "regulations_df.head()\n",
        "regulations_df.info()\n",
        "regulations_df.isnull().sum()\n"
      ]
    },
    {
      "cell_type": "code",
      "execution_count": 9,
      "metadata": {
        "colab": {
          "base_uri": "https://localhost:8080/"
        },
        "collapsed": true,
        "id": "idv2Qa-KfTHC",
        "outputId": "bf85c85e-3787-46d9-a19f-dd28d8f26a6a"
      },
      "outputs": [
        {
          "data": {
            "text/plain": [
              "Index(['Title', 'RegulatorId', 'SourceLanguage', 'DocumentTypeId',\n",
              "       'PublicationDate', 'IsPdf', 'Content', 'DocumentID'],\n",
              "      dtype='object')"
            ]
          },
          "execution_count": 9,
          "metadata": {},
          "output_type": "execute_result"
        }
      ],
      "source": [
        "regulations_df.columns"
      ]
    },
    {
      "cell_type": "code",
      "execution_count": 20,
      "metadata": {
        "colab": {
          "base_uri": "https://localhost:8080/",
          "height": 293
        },
        "id": "rPeEaqRm-XBr",
        "outputId": "d3905f42-2c8b-4658-cba0-d03e6e6a69cb"
      },
      "outputs": [
        {
          "data": {
            "text/html": [
              "<div>\n",
              "<style scoped>\n",
              "    .dataframe tbody tr th:only-of-type {\n",
              "        vertical-align: middle;\n",
              "    }\n",
              "\n",
              "    .dataframe tbody tr th {\n",
              "        vertical-align: top;\n",
              "    }\n",
              "\n",
              "    .dataframe thead th {\n",
              "        text-align: right;\n",
              "    }\n",
              "</style>\n",
              "<table border=\"1\" class=\"dataframe\">\n",
              "  <thead>\n",
              "    <tr style=\"text-align: right;\">\n",
              "      <th></th>\n",
              "      <th>Title</th>\n",
              "      <th>RegulatorId</th>\n",
              "      <th>SourceLanguage</th>\n",
              "      <th>DocumentTypeId</th>\n",
              "      <th>PublicationDate</th>\n",
              "      <th>IsPdf</th>\n",
              "      <th>Content</th>\n",
              "      <th>DocumentID</th>\n",
              "    </tr>\n",
              "  </thead>\n",
              "  <tbody>\n",
              "    <tr>\n",
              "      <th>0</th>\n",
              "      <td>Federal Law Gazette Part I 2024 Issued to Bonn...</td>\n",
              "      <td>9a27-032b-4be1-a886-44b1e915</td>\n",
              "      <td>German</td>\n",
              "      <td>e27a-8235-4bf6-96f0-3f56d2a4</td>\n",
              "      <td>2024-08-02 08:45:59.993000+00:00</td>\n",
              "      <td>True</td>\n",
              "      <td>Federal Gazette Part I 2024 Issued to Bonn on ...</td>\n",
              "      <td>3d80-b1ff-4b76-b59a-8c1be8a2</td>\n",
              "    </tr>\n",
              "    <tr>\n",
              "      <th>2</th>\n",
              "      <td>NOTE # 13.344 01 August 2024 The Agents are in...</td>\n",
              "      <td>749f-7ebf-4d0f-8ed9-dc645d9b</td>\n",
              "      <td>Spanish</td>\n",
              "      <td>f6e0-d6b3-471f-9811-dce56652</td>\n",
              "      <td>2024-08-02 05:51:00+00:00</td>\n",
              "      <td>True</td>\n",
              "      <td>NOTE # 13.344 01 August 2024 The Agents are in...</td>\n",
              "      <td>a6ec-8a09-443d-b28f-34763ca6</td>\n",
              "    </tr>\n",
              "    <tr>\n",
              "      <th>3</th>\n",
              "      <td>NOTE # 13.344 01 August 2024 The Agents are in...</td>\n",
              "      <td>749f-7ebf-4d0f-8ed9-dc645d9b</td>\n",
              "      <td>Spanish</td>\n",
              "      <td>f6e0-d6b3-471f-9811-dce56652</td>\n",
              "      <td>2024-08-02 05:51:00+00:00</td>\n",
              "      <td>True</td>\n",
              "      <td>NOTE # 13.344 01 August 2024 The Agents are in...</td>\n",
              "      <td>a6ec-8a09-443d-b28f-34763ca6</td>\n",
              "    </tr>\n",
              "    <tr>\n",
              "      <th>4</th>\n",
              "      <td>NOTE # 13.344 01 August 2024 The Agents are in...</td>\n",
              "      <td>749f-7ebf-4d0f-8ed9-dc645d9b</td>\n",
              "      <td>Spanish</td>\n",
              "      <td>f6e0-d6b3-471f-9811-dce56652</td>\n",
              "      <td>2024-08-02 05:51:00+00:00</td>\n",
              "      <td>True</td>\n",
              "      <td>NOTE # 13.344 01 August 2024 The Agents are in...</td>\n",
              "      <td>a6ec-8a09-443d-b28f-34763ca6</td>\n",
              "    </tr>\n",
              "    <tr>\n",
              "      <th>5</th>\n",
              "      <td>NOTE # 13.344 01 August 2024 The Agents are in...</td>\n",
              "      <td>749f-7ebf-4d0f-8ed9-dc645d9b</td>\n",
              "      <td>Spanish</td>\n",
              "      <td>f6e0-d6b3-471f-9811-dce56652</td>\n",
              "      <td>2024-08-02 05:51:00+00:00</td>\n",
              "      <td>True</td>\n",
              "      <td>NOTE # 13.344 01 August 2024 The Agents are in...</td>\n",
              "      <td>a6ec-8a09-443d-b28f-34763ca6</td>\n",
              "    </tr>\n",
              "  </tbody>\n",
              "</table>\n",
              "</div>"
            ],
            "text/plain": [
              "                                               Title  \\\n",
              "0  Federal Law Gazette Part I 2024 Issued to Bonn...   \n",
              "2  NOTE # 13.344 01 August 2024 The Agents are in...   \n",
              "3  NOTE # 13.344 01 August 2024 The Agents are in...   \n",
              "4  NOTE # 13.344 01 August 2024 The Agents are in...   \n",
              "5  NOTE # 13.344 01 August 2024 The Agents are in...   \n",
              "\n",
              "                    RegulatorId SourceLanguage                DocumentTypeId  \\\n",
              "0  9a27-032b-4be1-a886-44b1e915         German  e27a-8235-4bf6-96f0-3f56d2a4   \n",
              "2  749f-7ebf-4d0f-8ed9-dc645d9b        Spanish  f6e0-d6b3-471f-9811-dce56652   \n",
              "3  749f-7ebf-4d0f-8ed9-dc645d9b        Spanish  f6e0-d6b3-471f-9811-dce56652   \n",
              "4  749f-7ebf-4d0f-8ed9-dc645d9b        Spanish  f6e0-d6b3-471f-9811-dce56652   \n",
              "5  749f-7ebf-4d0f-8ed9-dc645d9b        Spanish  f6e0-d6b3-471f-9811-dce56652   \n",
              "\n",
              "                    PublicationDate  IsPdf  \\\n",
              "0  2024-08-02 08:45:59.993000+00:00   True   \n",
              "2         2024-08-02 05:51:00+00:00   True   \n",
              "3         2024-08-02 05:51:00+00:00   True   \n",
              "4         2024-08-02 05:51:00+00:00   True   \n",
              "5         2024-08-02 05:51:00+00:00   True   \n",
              "\n",
              "                                             Content  \\\n",
              "0  Federal Gazette Part I 2024 Issued to Bonn on ...   \n",
              "2  NOTE # 13.344 01 August 2024 The Agents are in...   \n",
              "3  NOTE # 13.344 01 August 2024 The Agents are in...   \n",
              "4  NOTE # 13.344 01 August 2024 The Agents are in...   \n",
              "5  NOTE # 13.344 01 August 2024 The Agents are in...   \n",
              "\n",
              "                     DocumentID  \n",
              "0  3d80-b1ff-4b76-b59a-8c1be8a2  \n",
              "2  a6ec-8a09-443d-b28f-34763ca6  \n",
              "3  a6ec-8a09-443d-b28f-34763ca6  \n",
              "4  a6ec-8a09-443d-b28f-34763ca6  \n",
              "5  a6ec-8a09-443d-b28f-34763ca6  "
            ]
          },
          "execution_count": 20,
          "metadata": {},
          "output_type": "execute_result"
        }
      ],
      "source": [
        "pdf_documents = regulations_df['IsPdf'] == True\n",
        "regulations_df = regulations_df[pdf_documents]\n",
        "regulations_df.head()\n"
      ]
    },
    {
      "cell_type": "code",
      "execution_count": 21,
      "metadata": {
        "colab": {
          "base_uri": "https://localhost:8080/"
        },
        "collapsed": true,
        "id": "6_Vp0Puf49Vb",
        "outputId": "f94bbe37-1d11-4537-8163-27a41fe099a3"
      },
      "outputs": [
        {
          "name": "stdout",
          "output_type": "stream",
          "text": [
            "<class 'pandas.core.frame.DataFrame'>\n",
            "RangeIndex: 100000 entries, 0 to 99999\n",
            "Data columns (total 4 columns):\n",
            " #   Column                      Non-Null Count   Dtype \n",
            "---  ------                      --------------   ----- \n",
            " 0   RequirementSource           100000 non-null  object\n",
            " 1   ContainsRelevantRegulation  100000 non-null  object\n",
            " 2   User                        100000 non-null  object\n",
            " 3   DocumentID                  100000 non-null  object\n",
            "dtypes: object(4)\n",
            "memory usage: 3.1+ MB\n"
          ]
        }
      ],
      "source": [
        "relevance_df.describe()\n",
        "relevance_df.head()\n",
        "relevance_df.info()"
      ]
    },
    {
      "cell_type": "code",
      "execution_count": 22,
      "metadata": {
        "colab": {
          "base_uri": "https://localhost:8080/",
          "height": 206
        },
        "id": "Pc2H3m45H1G4",
        "outputId": "9ceb1dff-26a7-4edc-cb28-283dded3c600"
      },
      "outputs": [
        {
          "data": {
            "text/html": [
              "<div>\n",
              "<style scoped>\n",
              "    .dataframe tbody tr th:only-of-type {\n",
              "        vertical-align: middle;\n",
              "    }\n",
              "\n",
              "    .dataframe tbody tr th {\n",
              "        vertical-align: top;\n",
              "    }\n",
              "\n",
              "    .dataframe thead th {\n",
              "        text-align: right;\n",
              "    }\n",
              "</style>\n",
              "<table border=\"1\" class=\"dataframe\">\n",
              "  <thead>\n",
              "    <tr style=\"text-align: right;\">\n",
              "      <th></th>\n",
              "      <th>RequirementSource</th>\n",
              "      <th>ContainsRelevantRegulation</th>\n",
              "      <th>User</th>\n",
              "      <th>DocumentID</th>\n",
              "    </tr>\n",
              "  </thead>\n",
              "  <tbody>\n",
              "    <tr>\n",
              "      <th>0</th>\n",
              "      <td>Regulation</td>\n",
              "      <td>Relevant</td>\n",
              "      <td>00002B53</td>\n",
              "      <td>99f7-77d9-4c72-a45a-049dd24b</td>\n",
              "    </tr>\n",
              "    <tr>\n",
              "      <th>1</th>\n",
              "      <td>Regulation</td>\n",
              "      <td>Irrelevant</td>\n",
              "      <td>00002B53</td>\n",
              "      <td>104e-8d13-4537-8e56-415dacd8</td>\n",
              "    </tr>\n",
              "    <tr>\n",
              "      <th>2</th>\n",
              "      <td>Regulation</td>\n",
              "      <td>Irrelevant</td>\n",
              "      <td>0000164E</td>\n",
              "      <td>b634-3641-4f16-96cc-99e1cb85</td>\n",
              "    </tr>\n",
              "    <tr>\n",
              "      <th>3</th>\n",
              "      <td>Guidance</td>\n",
              "      <td>Irrelevant</td>\n",
              "      <td>000006A5</td>\n",
              "      <td>f452-1e80-482e-ab6b-86d02faf</td>\n",
              "    </tr>\n",
              "    <tr>\n",
              "      <th>4</th>\n",
              "      <td>Guidance</td>\n",
              "      <td>Irrelevant</td>\n",
              "      <td>000006A5</td>\n",
              "      <td>4449-7753-44ab-a7cd-0559f4ab</td>\n",
              "    </tr>\n",
              "  </tbody>\n",
              "</table>\n",
              "</div>"
            ],
            "text/plain": [
              "  RequirementSource ContainsRelevantRegulation      User  \\\n",
              "0        Regulation                   Relevant  00002B53   \n",
              "1        Regulation                 Irrelevant  00002B53   \n",
              "2        Regulation                 Irrelevant  0000164E   \n",
              "3          Guidance                 Irrelevant  000006A5   \n",
              "4          Guidance                 Irrelevant  000006A5   \n",
              "\n",
              "                     DocumentID  \n",
              "0  99f7-77d9-4c72-a45a-049dd24b  \n",
              "1  104e-8d13-4537-8e56-415dacd8  \n",
              "2  b634-3641-4f16-96cc-99e1cb85  \n",
              "3  f452-1e80-482e-ab6b-86d02faf  \n",
              "4  4449-7753-44ab-a7cd-0559f4ab  "
            ]
          },
          "execution_count": 22,
          "metadata": {},
          "output_type": "execute_result"
        }
      ],
      "source": [
        "relevance_df.head()"
      ]
    },
    {
      "cell_type": "code",
      "execution_count": 23,
      "metadata": {
        "colab": {
          "base_uri": "https://localhost:8080/",
          "height": 206
        },
        "id": "DCxUvIRkJtEf",
        "outputId": "4815c7cb-0dfa-4f15-967c-81c0562de21e"
      },
      "outputs": [
        {
          "data": {
            "text/html": [
              "<div>\n",
              "<style scoped>\n",
              "    .dataframe tbody tr th:only-of-type {\n",
              "        vertical-align: middle;\n",
              "    }\n",
              "\n",
              "    .dataframe tbody tr th {\n",
              "        vertical-align: top;\n",
              "    }\n",
              "\n",
              "    .dataframe thead th {\n",
              "        text-align: right;\n",
              "    }\n",
              "</style>\n",
              "<table border=\"1\" class=\"dataframe\">\n",
              "  <thead>\n",
              "    <tr style=\"text-align: right;\">\n",
              "      <th></th>\n",
              "      <th>DocumentID</th>\n",
              "      <th>RegulatorId</th>\n",
              "      <th>Title</th>\n",
              "      <th>Content</th>\n",
              "      <th>IsPdf</th>\n",
              "      <th>PublicationDate</th>\n",
              "    </tr>\n",
              "  </thead>\n",
              "  <tbody>\n",
              "    <tr>\n",
              "      <th>0</th>\n",
              "      <td>3d80-b1ff-4b76-b59a-8c1be8a2</td>\n",
              "      <td>9a27-032b-4be1-a886-44b1e915</td>\n",
              "      <td>Federal Law Gazette Part I 2024 Issued to Bonn...</td>\n",
              "      <td>Federal Gazette Part I 2024 Issued to Bonn on ...</td>\n",
              "      <td>True</td>\n",
              "      <td>2024-08-02 08:45:59.993000+00:00</td>\n",
              "    </tr>\n",
              "    <tr>\n",
              "      <th>2</th>\n",
              "      <td>a6ec-8a09-443d-b28f-34763ca6</td>\n",
              "      <td>749f-7ebf-4d0f-8ed9-dc645d9b</td>\n",
              "      <td>NOTE # 13.344 01 August 2024 The Agents are in...</td>\n",
              "      <td>NOTE # 13.344 01 August 2024 The Agents are in...</td>\n",
              "      <td>True</td>\n",
              "      <td>2024-08-02 05:51:00+00:00</td>\n",
              "    </tr>\n",
              "    <tr>\n",
              "      <th>3</th>\n",
              "      <td>a6ec-8a09-443d-b28f-34763ca6</td>\n",
              "      <td>749f-7ebf-4d0f-8ed9-dc645d9b</td>\n",
              "      <td>NOTE # 13.344 01 August 2024 The Agents are in...</td>\n",
              "      <td>NOTE # 13.344 01 August 2024 The Agents are in...</td>\n",
              "      <td>True</td>\n",
              "      <td>2024-08-02 05:51:00+00:00</td>\n",
              "    </tr>\n",
              "    <tr>\n",
              "      <th>4</th>\n",
              "      <td>a6ec-8a09-443d-b28f-34763ca6</td>\n",
              "      <td>749f-7ebf-4d0f-8ed9-dc645d9b</td>\n",
              "      <td>NOTE # 13.344 01 August 2024 The Agents are in...</td>\n",
              "      <td>NOTE # 13.344 01 August 2024 The Agents are in...</td>\n",
              "      <td>True</td>\n",
              "      <td>2024-08-02 05:51:00+00:00</td>\n",
              "    </tr>\n",
              "    <tr>\n",
              "      <th>5</th>\n",
              "      <td>a6ec-8a09-443d-b28f-34763ca6</td>\n",
              "      <td>749f-7ebf-4d0f-8ed9-dc645d9b</td>\n",
              "      <td>NOTE # 13.344 01 August 2024 The Agents are in...</td>\n",
              "      <td>NOTE # 13.344 01 August 2024 The Agents are in...</td>\n",
              "      <td>True</td>\n",
              "      <td>2024-08-02 05:51:00+00:00</td>\n",
              "    </tr>\n",
              "  </tbody>\n",
              "</table>\n",
              "</div>"
            ],
            "text/plain": [
              "                     DocumentID                   RegulatorId  \\\n",
              "0  3d80-b1ff-4b76-b59a-8c1be8a2  9a27-032b-4be1-a886-44b1e915   \n",
              "2  a6ec-8a09-443d-b28f-34763ca6  749f-7ebf-4d0f-8ed9-dc645d9b   \n",
              "3  a6ec-8a09-443d-b28f-34763ca6  749f-7ebf-4d0f-8ed9-dc645d9b   \n",
              "4  a6ec-8a09-443d-b28f-34763ca6  749f-7ebf-4d0f-8ed9-dc645d9b   \n",
              "5  a6ec-8a09-443d-b28f-34763ca6  749f-7ebf-4d0f-8ed9-dc645d9b   \n",
              "\n",
              "                                               Title  \\\n",
              "0  Federal Law Gazette Part I 2024 Issued to Bonn...   \n",
              "2  NOTE # 13.344 01 August 2024 The Agents are in...   \n",
              "3  NOTE # 13.344 01 August 2024 The Agents are in...   \n",
              "4  NOTE # 13.344 01 August 2024 The Agents are in...   \n",
              "5  NOTE # 13.344 01 August 2024 The Agents are in...   \n",
              "\n",
              "                                             Content  IsPdf  \\\n",
              "0  Federal Gazette Part I 2024 Issued to Bonn on ...   True   \n",
              "2  NOTE # 13.344 01 August 2024 The Agents are in...   True   \n",
              "3  NOTE # 13.344 01 August 2024 The Agents are in...   True   \n",
              "4  NOTE # 13.344 01 August 2024 The Agents are in...   True   \n",
              "5  NOTE # 13.344 01 August 2024 The Agents are in...   True   \n",
              "\n",
              "                    PublicationDate  \n",
              "0  2024-08-02 08:45:59.993000+00:00  \n",
              "2         2024-08-02 05:51:00+00:00  \n",
              "3         2024-08-02 05:51:00+00:00  \n",
              "4         2024-08-02 05:51:00+00:00  \n",
              "5         2024-08-02 05:51:00+00:00  "
            ]
          },
          "execution_count": 23,
          "metadata": {},
          "output_type": "execute_result"
        }
      ],
      "source": [
        "#EXTRACTING MY METRIC FROM DATASET1 - REGULATION_DATA_SET\n",
        "NEW_REGULATION_DATA = regulations_df[['DocumentID', 'RegulatorId', 'Title', 'Content','IsPdf', 'PublicationDate']]\n",
        "NEW_REGULATION_DATA.head()"
      ]
    },
    {
      "cell_type": "code",
      "execution_count": 43,
      "metadata": {
        "id": "0EaA3k2DncWt"
      },
      "outputs": [
        {
          "name": "stderr",
          "output_type": "stream",
          "text": [
            "C:\\Users\\Acer\\AppData\\Local\\Temp\\ipykernel_9096\\1074613926.py:5: SettingWithCopyWarning: \n",
            "A value is trying to be set on a copy of a slice from a DataFrame\n",
            "\n",
            "See the caveats in the documentation: https://pandas.pydata.org/pandas-docs/stable/user_guide/indexing.html#returning-a-view-versus-a-copy\n",
            "  NEW_RELEVANCE_DATA.rename (columns={'ContainsRelevantRegulation':'ContainsRelevant_Irrelevant'},inplace=True)\n"
          ]
        }
      ],
      "source": [
        "relevance_df.loc[relevance_df['ContainsRelevantRegulation'] == True,'ContainsRelevantRegulation'] = 'Relevant'\n",
        "relevance_df.loc[relevance_df['ContainsRelevantRegulation'] == False,'ContainsRelevantRegulation'] = 'Irrelevant'\n",
        "filteredrelevance_df= relevance_df[relevance_df['RequirementSource'] == 'Regulation']\n",
        "NEW_RELEVANCE_DATA = filteredrelevance_df[['DocumentID', 'ContainsRelevantRegulation']]\n",
        "NEW_RELEVANCE_DATA.rename (columns={'ContainsRelevantRegulation':'ContainsRelevant_Irrelevant'},inplace=True)\n",
        "prediction_data= NEW_RELEVANCE_DATA.merge(NEW_REGULATION_DATA, on='DocumentID', how='inner')\n",
        "predictionmain= prediction_data[['DocumentID','ContainsRelevant_Irrelevant']]\n",
        "predictionmain.to_csv('Prediction',index=False)"
      ]
    },
    {
      "cell_type": "code",
      "execution_count": null,
      "metadata": {
        "id": "w0px6_oIGWAJ"
      },
      "outputs": [],
      "source": []
    },
    {
      "cell_type": "code",
      "execution_count": 25,
      "metadata": {
        "id": "Un8lgZ4nGSVJ"
      },
      "outputs": [
        {
          "data": {
            "text/plain": [
              "Series([], Name: DocumentID, dtype: object)"
            ]
          },
          "execution_count": 25,
          "metadata": {},
          "output_type": "execute_result"
        }
      ],
      "source": [
        "IsRelevant = relevance_df[relevance_df['ContainsRelevantRegulation']==True]\n",
        "IsRelevant.head()\n",
        "primarykey= IsRelevant['DocumentID']\n",
        "primarykey"
      ]
    },
    {
      "cell_type": "code",
      "execution_count": 30,
      "metadata": {
        "id": "x4nJXDs74abw"
      },
      "outputs": [
        {
          "data": {
            "text/html": [
              "<div>\n",
              "<style scoped>\n",
              "    .dataframe tbody tr th:only-of-type {\n",
              "        vertical-align: middle;\n",
              "    }\n",
              "\n",
              "    .dataframe tbody tr th {\n",
              "        vertical-align: top;\n",
              "    }\n",
              "\n",
              "    .dataframe thead th {\n",
              "        text-align: right;\n",
              "    }\n",
              "</style>\n",
              "<table border=\"1\" class=\"dataframe\">\n",
              "  <thead>\n",
              "    <tr style=\"text-align: right;\">\n",
              "      <th></th>\n",
              "      <th>DocumentID</th>\n",
              "      <th>RegulatorId</th>\n",
              "      <th>Title</th>\n",
              "      <th>Content</th>\n",
              "      <th>IsPdf</th>\n",
              "      <th>PublicationDate</th>\n",
              "      <th>RequirementSource</th>\n",
              "      <th>ContainsRelevantRegulation</th>\n",
              "      <th>User</th>\n",
              "    </tr>\n",
              "  </thead>\n",
              "  <tbody>\n",
              "  </tbody>\n",
              "</table>\n",
              "</div>"
            ],
            "text/plain": [
              "Empty DataFrame\n",
              "Columns: [DocumentID, RegulatorId, Title, Content, IsPdf, PublicationDate, RequirementSource, ContainsRelevantRegulation, User]\n",
              "Index: []"
            ]
          },
          "execution_count": 30,
          "metadata": {},
          "output_type": "execute_result"
        }
      ],
      "source": [
        "prediction = NEW_REGULATION_DATA.merge(IsRelevant, on='DocumentID', how='inner')\n",
        "prediction "
      ]
    },
    {
      "cell_type": "code",
      "execution_count": 29,
      "metadata": {
        "colab": {
          "base_uri": "https://localhost:8080/",
          "height": 147
        },
        "collapsed": true,
        "id": "T_nYEjv-6Qrx",
        "outputId": "c3bf4e05-a4cd-43a8-e13a-d100855cd2c8"
      },
      "outputs": [
        {
          "data": {
            "text/plain": [
              "DocumentID                    0\n",
              "ContainsRelevantRegulation    0\n",
              "dtype: int64"
            ]
          },
          "execution_count": 29,
          "metadata": {},
          "output_type": "execute_result"
        }
      ],
      "source": [
        "prediction.columns\n",
        "predictionmain=prediction[['DocumentID','ContainsRelevantRegulation']]\n",
        "predictionmain.count()\n",
        "#print(predictionmain.to_string(index=False))"
      ]
    },
    {
      "cell_type": "code",
      "execution_count": 11,
      "metadata": {
        "colab": {
          "base_uri": "https://localhost:8080/"
        },
        "collapsed": true,
        "id": "PqRu5sIu7rWp",
        "outputId": "1358149e-c997-4e1f-95f8-94cd2b720653"
      },
      "outputs": [
        {
          "name": "stdout",
          "output_type": "stream",
          "text": [
            "Number of unique document IDs: 97584\n",
            "Number of unique document IDs: 78274\n",
            "                                                    Title  \\\n",
            "3       NOTE # 13.344 01 August 2024 The Agents are in...   \n",
            "4       NOTE # 13.344 01 August 2024 The Agents are in...   \n",
            "5       NOTE # 13.344 01 August 2024 The Agents are in...   \n",
            "6       NOTE # 13.344 01 August 2024 The Agents are in...   \n",
            "7       NOTE # 13.344 01 August 2024 The Agents are in...   \n",
            "...                                                   ...   \n",
            "134069  Compliance with the Occupational Retirement Sc...   \n",
            "134070  Compliance with the Occupational Retirement Sc...   \n",
            "134076  Unemployment In The Uk Rose To 3.9% For Novemb...   \n",
            "134077  Unemployment In The Uk Rose To 3.9% For Novemb...   \n",
            "134078  Unemployment In The Uk Rose To 3.9% For Novemb...   \n",
            "\n",
            "                         RegulatorId SourceLanguage  \\\n",
            "3       749f-7ebf-4d0f-8ed9-dc645d9b        Spanish   \n",
            "4       749f-7ebf-4d0f-8ed9-dc645d9b        Spanish   \n",
            "5       749f-7ebf-4d0f-8ed9-dc645d9b        Spanish   \n",
            "6       749f-7ebf-4d0f-8ed9-dc645d9b        Spanish   \n",
            "7       749f-7ebf-4d0f-8ed9-dc645d9b        Spanish   \n",
            "...                              ...            ...   \n",
            "134069  0904-bab1-46dc-b280-bbac661f        English   \n",
            "134070  0904-bab1-46dc-b280-bbac661f        English   \n",
            "134076  1c38-90e9-4608-9a97-54a6dcbb        Turkish   \n",
            "134077  1c38-90e9-4608-9a97-54a6dcbb        Turkish   \n",
            "134078  1c38-90e9-4608-9a97-54a6dcbb        Turkish   \n",
            "\n",
            "                      DocumentTypeId                   PublicationDate  IsPdf  \\\n",
            "3       f6e0-d6b3-471f-9811-dce56652         2024-08-02 05:51:00+00:00   True   \n",
            "4       f6e0-d6b3-471f-9811-dce56652         2024-08-02 05:51:00+00:00   True   \n",
            "5       f6e0-d6b3-471f-9811-dce56652         2024-08-02 05:51:00+00:00   True   \n",
            "6       f6e0-d6b3-471f-9811-dce56652         2024-08-02 05:51:00+00:00   True   \n",
            "7       f6e0-d6b3-471f-9811-dce56652         2024-08-02 05:51:00+00:00   True   \n",
            "...                              ...                               ...    ...   \n",
            "134069  8425-fc91-4f8a-842c-2304dab9  2024-04-12 12:46:00.016000+00:00   True   \n",
            "134070  8425-fc91-4f8a-842c-2304dab9  2024-04-12 12:46:00.016000+00:00   True   \n",
            "134076  8425-fc91-4f8a-842c-2304dab9  2024-03-13 12:26:00.010000+00:00  False   \n",
            "134077  8425-fc91-4f8a-842c-2304dab9  2024-03-13 12:26:00.010000+00:00  False   \n",
            "134078  8425-fc91-4f8a-842c-2304dab9  2024-03-13 12:26:00.010000+00:00  False   \n",
            "\n",
            "                                                  Content  \\\n",
            "3       NOTE # 13.344 01 August 2024 The Agents are in...   \n",
            "4       NOTE # 13.344 01 August 2024 The Agents are in...   \n",
            "5       NOTE # 13.344 01 August 2024 The Agents are in...   \n",
            "6       NOTE # 13.344 01 August 2024 The Agents are in...   \n",
            "7       NOTE # 13.344 01 August 2024 The Agents are in...   \n",
            "...                                                   ...   \n",
            "134069  電 話 號 碼 Tel No : 2918 0102 傳 真 號 碼 Fax No : 31...   \n",
            "134070  電 話 號 碼 Tel No : 2918 0102 傳 真 號 碼 Fax No : 31...   \n",
            "134076  <nav> <ol> <li><a href=\"https://ticaret.gov.tr...   \n",
            "134077  <nav> <ol> <li><a href=\"https://ticaret.gov.tr...   \n",
            "134078  <nav> <ol> <li><a href=\"https://ticaret.gov.tr...   \n",
            "\n",
            "                          DocumentID  \n",
            "3       a6ec-8a09-443d-b28f-34763ca6  \n",
            "4       a6ec-8a09-443d-b28f-34763ca6  \n",
            "5       a6ec-8a09-443d-b28f-34763ca6  \n",
            "6       a6ec-8a09-443d-b28f-34763ca6  \n",
            "7       a6ec-8a09-443d-b28f-34763ca6  \n",
            "...                              ...  \n",
            "134069  bff6-62a9-4cd1-8f60-a23b1770  \n",
            "134070  bff6-62a9-4cd1-8f60-a23b1770  \n",
            "134076  8b7d-4f53-4835-badc-e43d9283  \n",
            "134077  8b7d-4f53-4835-badc-e43d9283  \n",
            "134078  8b7d-4f53-4835-badc-e43d9283  \n",
            "\n",
            "[36499 rows x 8 columns]\n"
          ]
        }
      ],
      "source": [
        "#Step 2 Checking the count of unique document ID and duplicates\n",
        "document_ids = regulations_df['DocumentID'].unique()\n",
        "unique_count = len(document_ids)\n",
        "print(\"Number of unique document IDs:\", unique_count)\n",
        "\n",
        "\n",
        "document_id = relevance_df['DocumentID'].unique()\n",
        "unique_count = len(document_id)\n",
        "print(\"Number of unique document IDs:\", unique_count)\n",
        "\n",
        "#Checking for duplicates\n",
        "duplicate_rows = regulations_df[regulations_df.duplicated(subset=['DocumentID'])]\n",
        "print(duplicate_rows)"
      ]
    }
  ],
  "metadata": {
    "accelerator": "GPU",
    "colab": {
      "gpuType": "T4",
      "provenance": []
    },
    "kernelspec": {
      "display_name": "Python 3",
      "name": "python3"
    },
    "language_info": {
      "codemirror_mode": {
        "name": "ipython",
        "version": 3
      },
      "file_extension": ".py",
      "mimetype": "text/x-python",
      "name": "python",
      "nbconvert_exporter": "python",
      "pygments_lexer": "ipython3",
      "version": "3.12.5"
    }
  },
  "nbformat": 4,
  "nbformat_minor": 0
}
