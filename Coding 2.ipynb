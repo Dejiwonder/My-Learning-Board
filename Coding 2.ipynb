{
 "cells": [
  {
   "cell_type": "code",
   "execution_count": 1,
   "metadata": {},
   "outputs": [],
   "source": [
    "import numpy as np \n",
    "import seaborn as sns "
   ]
  },
  {
   "cell_type": "code",
   "execution_count": 2,
   "metadata": {},
   "outputs": [
    {
     "name": "stdout",
     "output_type": "stream",
     "text": [
      "The value is  100\n"
     ]
    }
   ],
   "source": [
    "a = 100\n",
    "type (a)\n",
    "print(\"The value is \",a)\n"
   ]
  },
  {
   "cell_type": "code",
   "execution_count": 3,
   "metadata": {},
   "outputs": [
    {
     "name": "stdout",
     "output_type": "stream",
     "text": [
      "My details are  \n",
      "Name Adedeji \n",
      "Surname  Adeyemi \n"
     ]
    }
   ],
   "source": [
    "first_name = \"Adedeji\" ; last_name = 'Adeyemi '\n",
    "_age = 28\n",
    "print ('My details are ' ,'\\nName', first_name,'\\nSurname ', last_name )"
   ]
  },
  {
   "cell_type": "code",
   "execution_count": 4,
   "metadata": {},
   "outputs": [
    {
     "name": "stdout",
     "output_type": "stream",
     "text": [
      "sum is 64.0\n",
      "difference is -4.0\n"
     ]
    }
   ],
   "source": [
    "num1 = float(input('what is your first num:'))\n",
    "num2 = float(input('what is your second num'))\n",
    "\n",
    "sum = num1+ num2\n",
    "difference = num1 - num2 \n",
    "product = num1 * num2 \n",
    "\n",
    "print ('sum is', sum)\n",
    "print ('difference is', difference)\n",
    "\n"
   ]
  },
  {
   "cell_type": "code",
   "execution_count": 5,
   "metadata": {},
   "outputs": [
    {
     "name": "stdout",
     "output_type": "stream",
     "text": [
      "2013 The yeasr isn't a leapyear\n"
     ]
    }
   ],
   "source": [
    "year = int(input('Emter the Year:'))\n",
    "if year%4==0:\n",
    "    if year%100==0:\n",
    "        if year%400==0:\n",
    "            print(year,'The year is a leapyear')\n",
    "        else:\n",
    "             print(year,\"The yeasr isn't a leapyear\")\n",
    "    else:\n",
    "        print(year,'This is a leapyear')\n",
    "else:\n",
    "    print(year,\"The yeasr isn't a leapyear\")"
   ]
  },
  {
   "cell_type": "code",
   "execution_count": 6,
   "metadata": {},
   "outputs": [
    {
     "name": "stdout",
     "output_type": "stream",
     "text": [
      "The first number is: 32.0\n",
      "The second number is: 12.0\n",
      "Result: 44.0\n"
     ]
    }
   ],
   "source": [
    "num1 = float(input('Enter the first number'))\n",
    "num2 = float(input('Enter the second number'))\n",
    "operation = input('Enter one of the following operation, +, -, /,*')\n",
    "\n",
    "if operation == '+':\n",
    "    result = num1 + num2\n",
    "elif operation == '-':\n",
    "    result= num1 - num2 \n",
    "elif operation == '/':\n",
    "    if num2!=0:\n",
    "     result= num1 / num2 \n",
    "    else: result = 'Error! Division by zero'\n",
    "elif operation == '*':\n",
    "    result= num1 * num2 \n",
    "    \n",
    "else:\n",
    "    result= 'Invalid opeartion '\n",
    "print('The first number is:',num1)\n",
    "print('The second number is:',num2)\n",
    "print ('Result:', result)"
   ]
  },
  {
   "cell_type": "code",
   "execution_count": 7,
   "metadata": {},
   "outputs": [
    {
     "name": "stdout",
     "output_type": "stream",
     "text": [
      "You are above student range, your price is: 55 PLn \n"
     ]
    }
   ],
   "source": [
    "### Deterrmine the ticket price based on age and whether the person is a student \n",
    "student_price = '50 Pln'\n",
    "Non_student = '55 PLn '\n",
    "Age = int(input('Enter your Age:'))\n",
    "Is_student= input('Are you a student, (yes/no)').lower()\n",
    "if Age <= 18:\n",
    "    if Is_student == 'yes':\n",
    "     print('You have a student discount of 10%',student_price)\n",
    "    else: \n",
    "       print('your price is', Non_student) \n",
    "else:\n",
    "    print ('You are above student range, your price is:', Non_student)"
   ]
  },
  {
   "cell_type": "code",
   "execution_count": 8,
   "metadata": {},
   "outputs": [
    {
     "name": "stdout",
     "output_type": "stream",
     "text": [
      "0\n",
      "2\n",
      "4\n"
     ]
    }
   ],
   "source": [
    "### FOR LOOP\n",
    "for i in range (0,5,2):\n",
    "    print (i) "
   ]
  },
  {
   "cell_type": "code",
   "execution_count": 9,
   "metadata": {},
   "outputs": [
    {
     "name": "stdout",
     "output_type": "stream",
     "text": [
      "0\n",
      "1\n",
      "2\n",
      "3\n",
      "4\n",
      "5\n"
     ]
    }
   ],
   "source": [
    "###WHILE LOOP\n",
    "count= 0 \n",
    "while count <=5:\n",
    "    print (count)\n",
    "    count= count+1 "
   ]
  },
  {
   "cell_type": "code",
   "execution_count": 10,
   "metadata": {},
   "outputs": [
    {
     "name": "stdout",
     "output_type": "stream",
     "text": [
      "1\n",
      "3\n",
      "5\n",
      "7\n",
      "9\n",
      "----------------------------------------\n",
      "0\n",
      "1\n",
      "2\n",
      "3\n",
      "4\n",
      "5\n",
      "6\n",
      "7\n",
      "8\n",
      "9\n"
     ]
    }
   ],
   "source": [
    "### LOOP CONTROL STATEMENT \n",
    "##BREAK STATEMENT\n",
    "# for i in range (10):\n",
    "#     if i == 5:\n",
    "#         break \n",
    "#     print(i)\n",
    "## CONTINUE STATEMENT it skips the current iteration and continue with the next \n",
    "for i in range (10):\n",
    "    if i %2 == 0:\n",
    "        continue \n",
    "    print(i)\n",
    "print (\"----------------------------------------\")\n",
    "##PASS \n",
    "for i in range (10):\n",
    "    if i >5:\n",
    "        pass \n",
    "    print(i)"
   ]
  },
  {
   "cell_type": "code",
   "execution_count": 11,
   "metadata": {},
   "outputs": [
    {
     "name": "stdout",
     "output_type": "stream",
     "text": [
      "----------------------FOR LOOP--------------------\n",
      "55\n"
     ]
    }
   ],
   "source": [
    "###Nexted loops \n",
    "#E.G- Calculate the sum of first N natural numbers using a while and for loop\n",
    "\n",
    "##while loop \n",
    "# n= 10\n",
    "# sum= 0\n",
    "# count=1\n",
    "\n",
    "# while count <=10:\n",
    "#     sum=sum+ count\n",
    "#     count=count+1\n",
    "# print (sum)\n",
    "  \n",
    "print('----------------------FOR LOOP--------------------')\n",
    "\n",
    "sum= 0\n",
    "for i in range (11):\n",
    "        sum= sum+ i\n",
    "print (sum)"
   ]
  },
  {
   "cell_type": "code",
   "execution_count": 12,
   "metadata": {},
   "outputs": [
    {
     "name": "stdout",
     "output_type": "stream",
     "text": [
      "3\n",
      "5\n",
      "7\n",
      "9\n",
      "11\n",
      "13\n",
      "15\n",
      "17\n",
      "19\n",
      "21\n",
      "23\n",
      "25\n",
      "27\n",
      "29\n",
      "31\n",
      "33\n",
      "35\n",
      "37\n",
      "39\n",
      "41\n",
      "43\n",
      "45\n",
      "47\n",
      "49\n",
      "51\n",
      "53\n",
      "55\n",
      "57\n",
      "59\n",
      "61\n",
      "63\n",
      "65\n",
      "67\n",
      "69\n",
      "71\n",
      "73\n",
      "75\n",
      "77\n",
      "79\n",
      "81\n",
      "83\n",
      "85\n",
      "87\n",
      "89\n",
      "91\n",
      "93\n",
      "95\n",
      "97\n",
      "99\n"
     ]
    }
   ],
   "source": [
    "for num in range (1,101):\n",
    "     if num > 1:\n",
    "      if num %2 != 0:\n",
    "        print (num )"
   ]
  },
  {
   "cell_type": "code",
   "execution_count": 13,
   "metadata": {},
   "outputs": [
    {
     "name": "stdout",
     "output_type": "stream",
     "text": [
      "0\n",
      "1\n",
      "2\n",
      "3\n",
      "4\n"
     ]
    }
   ],
   "source": [
    "count = 0\n",
    "while count <5:\n",
    "    print(count)\n",
    "    count= count + 1\n",
    "    "
   ]
  },
  {
   "cell_type": "code",
   "execution_count": 14,
   "metadata": {},
   "outputs": [
    {
     "name": "stdout",
     "output_type": "stream",
     "text": [
      "0\n",
      "1\n",
      "2\n",
      "3\n",
      "4\n"
     ]
    }
   ],
   "source": [
    "for i in range (10):\n",
    "    if i ==5:\n",
    "     break\n",
    "    print (i) \n",
    "      "
   ]
  },
  {
   "cell_type": "code",
   "execution_count": 15,
   "metadata": {},
   "outputs": [
    {
     "name": "stdout",
     "output_type": "stream",
     "text": [
      "The sum of the natural numbers is : 55\n",
      "2 is a prime number\n",
      "3 is a prime number\n",
      "5 is a prime number\n",
      "7 is a prime number\n",
      "11 is a prime number\n",
      "13 is a prime number\n",
      "17 is a prime number\n",
      "19 is a prime number\n",
      "23 is a prime number\n",
      "29 is a prime number\n",
      "31 is a prime number\n",
      "37 is a prime number\n",
      "41 is a prime number\n",
      "43 is a prime number\n",
      "47 is a prime number\n",
      "53 is a prime number\n",
      "59 is a prime number\n",
      "61 is a prime number\n",
      "67 is a prime number\n",
      "71 is a prime number\n",
      "73 is a prime number\n",
      "79 is a prime number\n",
      "83 is a prime number\n",
      "89 is a prime number\n",
      "97 is a prime number\n"
     ]
    }
   ],
   "source": [
    "sum= 0\n",
    "for i in range (11):\n",
    "    sum =sum + i\n",
    "    continue\n",
    "    break\n",
    "print('The sum of the natural numbers is :',sum)\n",
    "\n",
    "# prime number bewteen 1 and 10\n",
    "\n",
    "# Loop through numbers from 1 to 100\n",
    "for num in range(1, 101):\n",
    "    # Check if the number is greater than 1 (prime numbers are greater than 1)\n",
    "    if num > 1:\n",
    "        # Check if the number is divisible by any number between 2 and itself\n",
    "        for i in range(2, num):\n",
    "            if num % i == 0:  # If divisible, it's not a prime number\n",
    "                break\n",
    "        else:\n",
    "            # If no divisors were found, it's a prime number\n",
    "            print(f\"{num} is a prime number\")\n",
    "\n",
    "\n"
   ]
  },
  {
   "cell_type": "code",
   "execution_count": 16,
   "metadata": {},
   "outputs": [
    {
     "name": "stdout",
     "output_type": "stream",
     "text": [
      " positive number\n"
     ]
    }
   ],
   "source": [
    "#Write a program that asks the user to input a number and prints whether the number is positive.\n",
    "user= float(input ('Kindly input a number:'))\n",
    "if user >0:\n",
    "    print(' positive number')"
   ]
  },
  {
   "cell_type": "code",
   "execution_count": 17,
   "metadata": {},
   "outputs": [
    {
     "name": "stdout",
     "output_type": "stream",
     "text": [
      "Positive Number\n"
     ]
    }
   ],
   "source": [
    "user= float(input ('Kindly input a number:'))\n",
    "if user <0:\n",
    "    print('Negative number')\n",
    "else:\n",
    "    print('Positive Number')"
   ]
  },
  {
   "cell_type": "code",
   "execution_count": 18,
   "metadata": {},
   "outputs": [
    {
     "ename": "ValueError",
     "evalue": "could not convert string to float: ''",
     "output_type": "error",
     "traceback": [
      "\u001b[1;31m---------------------------------------------------------------------------\u001b[0m",
      "\u001b[1;31mValueError\u001b[0m                                Traceback (most recent call last)",
      "Cell \u001b[1;32mIn[18], line 2\u001b[0m\n\u001b[0;32m      1\u001b[0m \u001b[38;5;66;03m# # Write a program that asks the user to input a number and prints whether the number is positive, negative, or zero.\u001b[39;00m\n\u001b[1;32m----> 2\u001b[0m user \u001b[38;5;241m=\u001b[39m \u001b[38;5;28;43mfloat\u001b[39;49m\u001b[43m(\u001b[49m\u001b[38;5;28;43minput\u001b[39;49m\u001b[43m(\u001b[49m\u001b[38;5;124;43m\"\u001b[39;49m\u001b[38;5;124;43mKindly input a number\u001b[39;49m\u001b[38;5;124;43m\"\u001b[39;49m\u001b[43m)\u001b[49m\u001b[43m)\u001b[49m\n\u001b[0;32m      3\u001b[0m \u001b[38;5;28;01mif\u001b[39;00m user \u001b[38;5;241m<\u001b[39m \u001b[38;5;241m0\u001b[39m:\n\u001b[0;32m      4\u001b[0m     \u001b[38;5;28mprint\u001b[39m(\u001b[38;5;124m'\u001b[39m\u001b[38;5;124mNegative Number\u001b[39m\u001b[38;5;124m'\u001b[39m)\n",
      "\u001b[1;31mValueError\u001b[0m: could not convert string to float: ''"
     ]
    }
   ],
   "source": [
    "# # Write a program that asks the user to input a number and prints whether the number is positive, negative, or zero.\n",
    "user = float(input(\"Kindly input a number\"))\n",
    "if user < 0:\n",
    "    print('Negative Number')\n",
    "elif user > 0:\n",
    "    print('Positve')\n",
    "else:\n",
    "    print ('Zero')\n"
   ]
  },
  {
   "cell_type": "code",
   "execution_count": null,
   "metadata": {},
   "outputs": [],
   "source": [
    "### Assignment 4: Nested if Statement\n",
    "\n",
    "# Write a program that asks the user to input a number and prints whether the number is positive and even, positive and odd, or negative.\n",
    "user = float(input(\"Kindly input a number: \"))\n",
    "\n",
    "if user > 0:  # Check if the number is positive\n",
    "    if user % 2 == 0:  # Check if the number is even\n",
    "        print('Positive and even')\n",
    "    else:  # If not even, it must be odd\n",
    "        print('Positive and odd')\n",
    "elif user < 0:  # Check if the number is negative\n",
    "    print('Negative Number')\n",
    "else:  # If not positive or negative, it must be zero\n",
    "    print('Zero')\n",
    "\n"
   ]
  },
  {
   "cell_type": "code",
   "execution_count": null,
   "metadata": {},
   "outputs": [
    {
     "name": "stdout",
     "output_type": "stream",
     "text": [
      "1\n",
      "2\n",
      "3\n",
      "4\n",
      "5\n",
      "6\n",
      "7\n",
      "8\n",
      "9\n",
      "10\n"
     ]
    }
   ],
   "source": [
    "## Lesson 2.2: Loops\n",
    "### Assignment 5: for Loop\n",
    "\n",
    "# Write a program that prints all the numbers from 1 to 10 using a for loop.\n",
    "for i in range (1,11):\n",
    "    print (i)\n",
    "\n",
    "\n"
   ]
  },
  {
   "cell_type": "code",
   "execution_count": null,
   "metadata": {},
   "outputs": [
    {
     "name": "stdout",
     "output_type": "stream",
     "text": [
      "1\n",
      "2\n",
      "3\n",
      "4\n",
      "5\n",
      "6\n",
      "7\n",
      "8\n",
      "9\n",
      "10\n"
     ]
    }
   ],
   "source": [
    "\n",
    "# Write a program that prints all the numbers from 1 to 10 using a while loop.\n",
    "# ### Assignment 6: while Loop\n",
    "i = 1  # Initialize the variable\n",
    "while i <= 10:  # Set the condition\n",
    "    print(i)\n",
    "    i += 1  # Increment the variable"
   ]
  },
  {
   "cell_type": "code",
   "execution_count": null,
   "metadata": {},
   "outputs": [
    {
     "name": "stdout",
     "output_type": "stream",
     "text": [
      "*****\n",
      "*****\n",
      "*****\n",
      "*****\n",
      "*****\n"
     ]
    }
   ],
   "source": [
    "# ### Assignment 7: Nested Loops\n",
    "for i in range(5):  # Loop for each row\n",
    "    for n in range(5):  # Loop for each column in a row\n",
    "        print(\"*\", end=\"\")  # Print one asterisk without moving to the next line\n",
    "    print()  # Move to the next line after each row\n"
   ]
  },
  {
   "cell_type": "code",
   "execution_count": null,
   "metadata": {},
   "outputs": [
    {
     "name": "stdout",
     "output_type": "stream",
     "text": [
      "The sum of all input numbers is: 45694.0\n"
     ]
    }
   ],
   "source": [
    "# ### Assignment 8: break Statement\n",
    "\n",
    "# Write a program that asks the user to input numbers until they input 0. The program should print the sum of all the input numbers.\n",
    "sum=0\n",
    "user = float(input('kindly input the number'))\n",
    "while user != 0:\n",
    "    sum= sum + user\n",
    "    user +=1\n",
    "    break\n",
    "#CORRECTION\n",
    "sum = 0\n",
    "while True:\n",
    "    user = float(input('Kindly input a number (enter 0 to stop): '))\n",
    "    if user == 0:\n",
    "        break\n",
    "    sum += user\n",
    "\n",
    "print(f'The sum of all input numbers is: {sum}')\n",
    "\n",
    "# ### Assignment 9: continue Statement\n",
    "\n",
    "# Write a program that prints all the numbers from 1 to 10 except 5 using a for loop and continue statement.\n",
    "\n",
    "# ### Assignment 10: pass Statement\n",
    "\n",
    "# Write a program that defines an empty function using the pass statement.\n"
   ]
  }
 ],
 "metadata": {
  "kernelspec": {
   "display_name": "base",
   "language": "python",
   "name": "python3"
  },
  "language_info": {
   "codemirror_mode": {
    "name": "ipython",
    "version": 3
   },
   "file_extension": ".py",
   "mimetype": "text/x-python",
   "name": "python",
   "nbconvert_exporter": "python",
   "pygments_lexer": "ipython3",
   "version": "3.12.4"
  }
 },
 "nbformat": 4,
 "nbformat_minor": 2
}
